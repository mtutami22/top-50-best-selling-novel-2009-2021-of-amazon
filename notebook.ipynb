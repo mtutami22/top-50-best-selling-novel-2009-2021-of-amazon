{
 "cells": [
  {
   "cell_type": "markdown",
   "id": "d3c6263e",
   "metadata": {},
   "source": [
    "# Perkenalan"
   ]
  },
  {
   "cell_type": "markdown",
   "id": "1703d6ae",
   "metadata": {},
   "source": [
    "Nama  : Mustika Tri Utami\n",
    "\n",
    "Program ini dibuat untuk melakukan analisis data penjualan buku di Amazon pada tahun 2009-2022"
   ]
  },
  {
   "cell_type": "markdown",
   "id": "c1ce8c0d",
   "metadata": {},
   "source": [
    "Link Tableau\n",
    "https://public.tableau.com/app/profile/mustika.tri.utami/viz/Milestone1_17478187156380/Milestone1?publish=yes"
   ]
  },
  {
   "cell_type": "markdown",
   "id": "3cc694ef",
   "metadata": {},
   "source": [
    "# Problem Statement and Dataset Description"
   ]
  },
  {
   "cell_type": "markdown",
   "id": "8ce908f6",
   "metadata": {},
   "source": [
    "<h1></h1>\n",
    "\n",
    "<h2>Topik Permasalahan</h2>\n",
    "Analisis popularitas dan kualitas buku terlaris di Amazon berdasarkan genre, harga, dan tahun terbit.\n",
    "\n",
    "<h2>Problem Statement</h2>\n",
    "Perusahaan ingin meningkatkan efektivitas strategi penjualan buku sebesar 70%. Untuk menyusun strategi yang tepat, diperlukan analisis penjualan buku dalam beberapa tahun terakhir. Melalui analisis berbasis data, diharapkan perusahaan dapat memahami pasar lebih baik dan meningkatkan penjualan dalam jangka waktu minimal 6 bulan ke depan.\n",
    "\n",
    "<h2>Latar Belakang</h2>\n",
    "Amazon merupakan platform marketplace terbesar di dunia yang juga dimanfaatkan sebagai penjualan buku. Buku-buku terlaris dapat mencerminkan minat pasar dan strategi penjualan yang sukses. Dengan memahami tren penjualan, perusahaan dapat menganalisis pasar yang berguna untuk mengatur strategi bisnis dengan baik.\n",
    "\n",
    "<h2>SMART</h2>\n",
    "<ul>\n",
    "    <li>Specific: Meningkatkan efektivitas strategi penjualan dengan mengidentifikasi genre paling laris berdasarkan data best selling Amazon tahun 2009-2021.</li>\n",
    "    <li>Measurable: Meningkatkan penjualan genre yang diminati sebesar 70%</li>\n",
    "    <li>Achievable: Dengan analisis data, perusahaan dapat menyusun strategi berbasis data yang relevan.</li>\n",
    "    <li>Relevant: Analisis ini dapat membantu client untuk memahami pasar dan menyediakan produk yang diminati konsumen.</li>\n",
    "    <li>Time-bound: Tujuan ini ditargetkan tercapai dalam waktu 6 bulan dengan memperbaiki strategi penjualan dan menyesuaikan produk yang akan dijual.</li>\n",
    "</ul>\n",
    "\n",
    "<h2>Sumber Dataset</h2>\n",
    "Dataset penjualan buku ini saya dapatkan dari Kaggle https://www.kaggle.com/datasets/zwl1234/top-50-bestselling-novels-20092021-of-amazon/data <br>\n",
    "Dataset 50 novel terlaris di Amazon diambil dari Amazon dengan mengambil data penjualan buku setiap tahun dari 2009 hingga 2021.\n",
    "\n",
    "<h2>Penjabaran Masalah</h2>\n",
    "<ol>\n",
    "    <li> Bagaimana distribusi buku berdasarkan genre?</li>\n",
    "    <li> Apakah buku fiksi cenderung memiliki rating lebih tinggi daripada rating buku non fiksi</li>\n",
    "    <li>Bagaimana tren popularitas berdasarkan review dari tahun ke tahun?</li>\n",
    "    <li>Apakah ada hubungan antara harga dan rating buku?</li>\n",
    "    <li>Bagaimana sebaran data rating dan review?</li>\n",
    "    <li>Apakah genre mempengaruhi rating atau hanya kebetulan?</li>\n",
    "</ol>\n",
    "\n",
    "<h2>Target Audience/User</h2>\n",
    "Target audience merupakan penjual buku"
   ]
  },
  {
   "cell_type": "markdown",
   "id": "7ed15d53",
   "metadata": {},
   "source": [
    "# Data Loading"
   ]
  },
  {
   "cell_type": "code",
   "execution_count": 389,
   "id": "447c3139",
   "metadata": {},
   "outputs": [],
   "source": [
    "import pandas as pd\n",
    "from scipy import stats\n",
    "import matplotlib.pyplot as plt\n",
    "import seaborn as sns\n",
    "import numpy as np\n",
    "from scipy.stats import ttest_ind"
   ]
  },
  {
   "cell_type": "code",
   "execution_count": 390,
   "id": "0bb1c23c",
   "metadata": {},
   "outputs": [],
   "source": [
    "df = pd.read_csv('P0M1_mustika_tri_dataset.csv')"
   ]
  },
  {
   "cell_type": "code",
   "execution_count": 391,
   "id": "b4ed36d7",
   "metadata": {},
   "outputs": [
    {
     "data": {
      "text/html": [
       "<div>\n",
       "<style scoped>\n",
       "    .dataframe tbody tr th:only-of-type {\n",
       "        vertical-align: middle;\n",
       "    }\n",
       "\n",
       "    .dataframe tbody tr th {\n",
       "        vertical-align: top;\n",
       "    }\n",
       "\n",
       "    .dataframe thead th {\n",
       "        text-align: right;\n",
       "    }\n",
       "</style>\n",
       "<table border=\"1\" class=\"dataframe\">\n",
       "  <thead>\n",
       "    <tr style=\"text-align: right;\">\n",
       "      <th></th>\n",
       "      <th>Name</th>\n",
       "      <th>Author</th>\n",
       "      <th>User Rating</th>\n",
       "      <th>Reviews</th>\n",
       "      <th>Price</th>\n",
       "      <th>Price_r</th>\n",
       "      <th>Year</th>\n",
       "      <th>Genre</th>\n",
       "    </tr>\n",
       "  </thead>\n",
       "  <tbody>\n",
       "    <tr>\n",
       "      <th>0</th>\n",
       "      <td>10-Day Green Smoothie Cleanse</td>\n",
       "      <td>JJ Smith</td>\n",
       "      <td>4.7</td>\n",
       "      <td>17,350</td>\n",
       "      <td>$8.00</td>\n",
       "      <td>$8</td>\n",
       "      <td>2016</td>\n",
       "      <td>Non Fiction</td>\n",
       "    </tr>\n",
       "    <tr>\n",
       "      <th>1</th>\n",
       "      <td>11/22/63: A Novel</td>\n",
       "      <td>Stephen King</td>\n",
       "      <td>4.6</td>\n",
       "      <td>2,052</td>\n",
       "      <td>$22.00</td>\n",
       "      <td>$22</td>\n",
       "      <td>2011</td>\n",
       "      <td>Fiction</td>\n",
       "    </tr>\n",
       "    <tr>\n",
       "      <th>2</th>\n",
       "      <td>12 Rules for Life: An Antidote to Chaos</td>\n",
       "      <td>Jordan B. Peterson</td>\n",
       "      <td>4.7</td>\n",
       "      <td>18,979</td>\n",
       "      <td>$15.00</td>\n",
       "      <td>$15</td>\n",
       "      <td>2018</td>\n",
       "      <td>Non Fiction</td>\n",
       "    </tr>\n",
       "    <tr>\n",
       "      <th>3</th>\n",
       "      <td>1984</td>\n",
       "      <td>George Orwell</td>\n",
       "      <td>4.7</td>\n",
       "      <td>70,425</td>\n",
       "      <td>$7.48</td>\n",
       "      <td>$8</td>\n",
       "      <td>2021</td>\n",
       "      <td>Fiction</td>\n",
       "    </tr>\n",
       "    <tr>\n",
       "      <th>4</th>\n",
       "      <td>1984 (Signet Classics)</td>\n",
       "      <td>George Orwell</td>\n",
       "      <td>4.7</td>\n",
       "      <td>21,424</td>\n",
       "      <td>$6.00</td>\n",
       "      <td>$6</td>\n",
       "      <td>2017</td>\n",
       "      <td>Fiction</td>\n",
       "    </tr>\n",
       "    <tr>\n",
       "      <th>...</th>\n",
       "      <td>...</td>\n",
       "      <td>...</td>\n",
       "      <td>...</td>\n",
       "      <td>...</td>\n",
       "      <td>...</td>\n",
       "      <td>...</td>\n",
       "      <td>...</td>\n",
       "      <td>...</td>\n",
       "    </tr>\n",
       "    <tr>\n",
       "      <th>645</th>\n",
       "      <td>Wrecking Ball (Diary of a Wimpy Kid Book 14)</td>\n",
       "      <td>Jeff Kinney</td>\n",
       "      <td>4.9</td>\n",
       "      <td>9,413</td>\n",
       "      <td>$8.00</td>\n",
       "      <td>$8</td>\n",
       "      <td>2019</td>\n",
       "      <td>Fiction</td>\n",
       "    </tr>\n",
       "    <tr>\n",
       "      <th>646</th>\n",
       "      <td>You Are a Badass: How to Stop Doubting Your Gr...</td>\n",
       "      <td>Jen Sincero</td>\n",
       "      <td>4.7</td>\n",
       "      <td>14,331</td>\n",
       "      <td>$8.00</td>\n",
       "      <td>$8</td>\n",
       "      <td>2016</td>\n",
       "      <td>Non Fiction</td>\n",
       "    </tr>\n",
       "    <tr>\n",
       "      <th>647</th>\n",
       "      <td>You Are a Badass: How to Stop Doubting Your Gr...</td>\n",
       "      <td>Jen Sincero</td>\n",
       "      <td>4.7</td>\n",
       "      <td>14,331</td>\n",
       "      <td>$8.00</td>\n",
       "      <td>$8</td>\n",
       "      <td>2017</td>\n",
       "      <td>Non Fiction</td>\n",
       "    </tr>\n",
       "    <tr>\n",
       "      <th>648</th>\n",
       "      <td>You Are a Badass: How to Stop Doubting Your Gr...</td>\n",
       "      <td>Jen Sincero</td>\n",
       "      <td>4.7</td>\n",
       "      <td>14,331</td>\n",
       "      <td>$8.00</td>\n",
       "      <td>$8</td>\n",
       "      <td>2018</td>\n",
       "      <td>Non Fiction</td>\n",
       "    </tr>\n",
       "    <tr>\n",
       "      <th>649</th>\n",
       "      <td>You Are a Badass: How to Stop Doubting Your Gr...</td>\n",
       "      <td>Jen Sincero</td>\n",
       "      <td>4.7</td>\n",
       "      <td>14,331</td>\n",
       "      <td>$8.00</td>\n",
       "      <td>$8</td>\n",
       "      <td>2019</td>\n",
       "      <td>Non Fiction</td>\n",
       "    </tr>\n",
       "  </tbody>\n",
       "</table>\n",
       "<p>650 rows × 8 columns</p>\n",
       "</div>"
      ],
      "text/plain": [
       "                                                  Name              Author  \\\n",
       "0                        10-Day Green Smoothie Cleanse            JJ Smith   \n",
       "1                                    11/22/63: A Novel        Stephen King   \n",
       "2              12 Rules for Life: An Antidote to Chaos  Jordan B. Peterson   \n",
       "3                                                 1984       George Orwell   \n",
       "4                               1984 (Signet Classics)       George Orwell   \n",
       "..                                                 ...                 ...   \n",
       "645       Wrecking Ball (Diary of a Wimpy Kid Book 14)         Jeff Kinney   \n",
       "646  You Are a Badass: How to Stop Doubting Your Gr...         Jen Sincero   \n",
       "647  You Are a Badass: How to Stop Doubting Your Gr...         Jen Sincero   \n",
       "648  You Are a Badass: How to Stop Doubting Your Gr...         Jen Sincero   \n",
       "649  You Are a Badass: How to Stop Doubting Your Gr...         Jen Sincero   \n",
       "\n",
       "     User Rating Reviews   Price Price_r  Year        Genre  \n",
       "0            4.7  17,350   $8.00      $8  2016  Non Fiction  \n",
       "1            4.6   2,052  $22.00     $22  2011      Fiction  \n",
       "2            4.7  18,979  $15.00     $15  2018  Non Fiction  \n",
       "3            4.7  70,425   $7.48      $8  2021      Fiction  \n",
       "4            4.7  21,424   $6.00      $6  2017      Fiction  \n",
       "..           ...     ...     ...     ...   ...          ...  \n",
       "645          4.9   9,413   $8.00      $8  2019      Fiction  \n",
       "646          4.7  14,331   $8.00      $8  2016  Non Fiction  \n",
       "647          4.7  14,331   $8.00      $8  2017  Non Fiction  \n",
       "648          4.7  14,331   $8.00      $8  2018  Non Fiction  \n",
       "649          4.7  14,331   $8.00      $8  2019  Non Fiction  \n",
       "\n",
       "[650 rows x 8 columns]"
      ]
     },
     "execution_count": 391,
     "metadata": {},
     "output_type": "execute_result"
    }
   ],
   "source": [
    "df"
   ]
  },
  {
   "cell_type": "markdown",
   "id": "0750b1b0",
   "metadata": {},
   "source": [
    "# Data Cleaning"
   ]
  },
  {
   "cell_type": "code",
   "execution_count": 392,
   "id": "0f977755",
   "metadata": {},
   "outputs": [
    {
     "name": "stdout",
     "output_type": "stream",
     "text": [
      "<class 'pandas.core.frame.DataFrame'>\n",
      "RangeIndex: 650 entries, 0 to 649\n",
      "Data columns (total 8 columns):\n",
      " #   Column       Non-Null Count  Dtype  \n",
      "---  ------       --------------  -----  \n",
      " 0   Name         650 non-null    object \n",
      " 1   Author       650 non-null    object \n",
      " 2   User Rating  650 non-null    float64\n",
      " 3   Reviews      650 non-null    object \n",
      " 4   Price        650 non-null    object \n",
      " 5   Price_r      650 non-null    object \n",
      " 6   Year         650 non-null    int64  \n",
      " 7   Genre        650 non-null    object \n",
      "dtypes: float64(1), int64(1), object(6)\n",
      "memory usage: 40.8+ KB\n"
     ]
    }
   ],
   "source": [
    "df.info()"
   ]
  },
  {
   "cell_type": "code",
   "execution_count": 393,
   "id": "19eb94a0",
   "metadata": {},
   "outputs": [
    {
     "data": {
      "text/plain": [
       "Index(['Name', 'Author', 'User Rating', 'Reviews', 'Price', 'Price_r', 'Year',\n",
       "       'Genre'],\n",
       "      dtype='object')"
      ]
     },
     "execution_count": 393,
     "metadata": {},
     "output_type": "execute_result"
    }
   ],
   "source": [
    "df.columns"
   ]
  },
  {
   "cell_type": "code",
   "execution_count": 394,
   "id": "ca6def89",
   "metadata": {},
   "outputs": [],
   "source": [
    "df = df.drop('Price_r', axis=1)"
   ]
  },
  {
   "cell_type": "code",
   "execution_count": 395,
   "id": "5fc65c66",
   "metadata": {},
   "outputs": [],
   "source": [
    "df = df[df['Price'] != '$0.00']"
   ]
  },
  {
   "cell_type": "code",
   "execution_count": 396,
   "id": "14f653fa",
   "metadata": {},
   "outputs": [],
   "source": [
    "df.columns = ['judul', 'penulis', 'rating', 'review', 'harga', 'tahun', 'genre']"
   ]
  },
  {
   "cell_type": "code",
   "execution_count": 397,
   "id": "fa48d7af",
   "metadata": {},
   "outputs": [],
   "source": [
    "df.review = df.review.str.replace(',', '')\n",
    "df.harga = df.harga.str.replace('$','')"
   ]
  },
  {
   "cell_type": "code",
   "execution_count": 398,
   "id": "e466cbe5",
   "metadata": {},
   "outputs": [
    {
     "data": {
      "text/plain": [
       "0      Non Fiction\n",
       "1          Fiction\n",
       "2      Non Fiction\n",
       "3          Fiction\n",
       "4          Fiction\n",
       "          ...     \n",
       "645        Fiction\n",
       "646    Non Fiction\n",
       "647    Non Fiction\n",
       "648    Non Fiction\n",
       "649    Non Fiction\n",
       "Name: genre, Length: 638, dtype: object"
      ]
     },
     "execution_count": 398,
     "metadata": {},
     "output_type": "execute_result"
    }
   ],
   "source": [
    "df.genre"
   ]
  },
  {
   "cell_type": "code",
   "execution_count": 399,
   "id": "016d6abb",
   "metadata": {},
   "outputs": [],
   "source": [
    "df.judul = df.judul.astype('string')\n",
    "df.penulis = df.penulis.astype('string')\n",
    "df.review = df.review.astype('int')\n",
    "df.harga = df.harga.astype('float')\n",
    "df.genre = df.genre.astype('string')"
   ]
  },
  {
   "cell_type": "code",
   "execution_count": 400,
   "id": "c9d0f7b2",
   "metadata": {},
   "outputs": [
    {
     "name": "stdout",
     "output_type": "stream",
     "text": [
      "<class 'pandas.core.frame.DataFrame'>\n",
      "Index: 638 entries, 0 to 649\n",
      "Data columns (total 7 columns):\n",
      " #   Column   Non-Null Count  Dtype  \n",
      "---  ------   --------------  -----  \n",
      " 0   judul    638 non-null    string \n",
      " 1   penulis  638 non-null    string \n",
      " 2   rating   638 non-null    float64\n",
      " 3   review   638 non-null    int32  \n",
      " 4   harga    638 non-null    float64\n",
      " 5   tahun    638 non-null    int64  \n",
      " 6   genre    638 non-null    string \n",
      "dtypes: float64(2), int32(1), int64(1), string(3)\n",
      "memory usage: 37.4 KB\n"
     ]
    }
   ],
   "source": [
    "df.info()"
   ]
  },
  {
   "cell_type": "code",
   "execution_count": 401,
   "id": "6e7585d2",
   "metadata": {},
   "outputs": [
    {
     "data": {
      "text/plain": [
       "0"
      ]
     },
     "execution_count": 401,
     "metadata": {},
     "output_type": "execute_result"
    }
   ],
   "source": [
    "df.duplicated().sum()"
   ]
  },
  {
   "cell_type": "code",
   "execution_count": 402,
   "id": "d5e84537",
   "metadata": {},
   "outputs": [],
   "source": [
    "df.to_csv('P0M1_mustika_tri_dataset_clean.csv', index=False)"
   ]
  },
  {
   "cell_type": "markdown",
   "id": "21fe3248",
   "metadata": {},
   "source": [
    "# Exploration and Analysis"
   ]
  },
  {
   "cell_type": "markdown",
   "id": "248615ec",
   "metadata": {},
   "source": [
    "Bagian menyajikan proses eksplorasi dan analisis data penjualan buku terlaris di Amazon. Analisis ini merupakan proses untuk menjawab penjabaran masalah yang telah dipaparkan sebelumnya."
   ]
  },
  {
   "cell_type": "markdown",
   "id": "6d7cd2e7",
   "metadata": {},
   "source": [
    "1. Distribusi buku berdasarkan genre (Visualisasi Data)"
   ]
  },
  {
   "cell_type": "code",
   "execution_count": 403,
   "id": "bd22bd8e",
   "metadata": {},
   "outputs": [
    {
     "name": "stdout",
     "output_type": "stream",
     "text": [
      "genre\n",
      "Non Fiction    362\n",
      "Fiction        276\n",
      "Name: count, dtype: Int64\n"
     ]
    }
   ],
   "source": [
    "print(df['genre'].value_counts())"
   ]
  },
  {
   "cell_type": "code",
   "execution_count": 404,
   "id": "ad268c19",
   "metadata": {},
   "outputs": [
    {
     "data": {
      "image/png": "[encoded data removed]",
      "text/plain": [
       "<Figure size 600x600 with 1 Axes>"
      ]
     },
     "metadata": {},
     "output_type": "display_data"
    }
   ],
   "source": [
    "genre_counts = df['genre'].value_counts()\n",
    "\n",
    "plt.figure(figsize=(6, 6))\n",
    "plt.pie(genre_counts, labels=genre_counts.index, autopct='%1.1f%%', startangle=140)\n",
    "plt.title('Persentase Genre Buku Terlaris')\n",
    "plt.show()"
   ]
  },
  {
   "cell_type": "code",
   "execution_count": 405,
   "id": "f7caad62",
   "metadata": {},
   "outputs": [],
   "source": [
    "fiksi = df[df['genre'] == 'Fiction']\n",
    "nonfiksi = df[df['genre'] == 'Non Fiction']"
   ]
  },
  {
   "cell_type": "code",
   "execution_count": 406,
   "id": "886817b6",
   "metadata": {},
   "outputs": [
    {
     "name": "stdout",
     "output_type": "stream",
     "text": [
      "                            judul          penulis  rating  review  harga  \\\n",
      "559  The Twilight Saga Collection  Stephenie Meyer     4.7    3801   82.0   \n",
      "\n",
      "     tahun    genre  \n",
      "559   2009  Fiction  \n",
      "                                                judul  \\\n",
      "87  Diagnostic and Statistical Manual of Mental Di...   \n",
      "88  Diagnostic and Statistical Manual of Mental Di...   \n",
      "\n",
      "                             penulis  rating  review  harga  tahun  \\\n",
      "87  American Psychiatric Association     4.5    6679  105.0   2013   \n",
      "88  American Psychiatric Association     4.5    6679  105.0   2014   \n",
      "\n",
      "          genre  \n",
      "87  Non Fiction  \n",
      "88  Non Fiction  \n"
     ]
    }
   ],
   "source": [
    "buku_termahal = fiksi[fiksi['harga'] == fiksi['harga'].max()]\n",
    "buku_termahal_non = nonfiksi[nonfiksi['harga'] == nonfiksi['harga'].max()]\n",
    "print(buku_termahal)\n",
    "print(buku_termahal_non)\n"
   ]
  },
  {
   "cell_type": "code",
   "execution_count": 407,
   "id": "7aa91468",
   "metadata": {},
   "outputs": [
    {
     "name": "stdout",
     "output_type": "stream",
     "text": [
      "judul      Big Shot (Diary of a Wimpy Kid\n",
      "penulis                       Jeff Kinney\n",
      "rating                                4.9\n",
      "review                              19470\n",
      "harga                                7.49\n",
      "tahun                                2021\n",
      "genre                             Fiction\n",
      "Name: 45, dtype: object\n",
      "judul      A Promised Land\n",
      "penulis       Barack Obama\n",
      "rating                 4.9\n",
      "review               83212\n",
      "harga                 23.0\n",
      "tahun                 2020\n",
      "genre          Non Fiction\n",
      "Name: 13, dtype: object\n"
     ]
    }
   ],
   "source": [
    "rating_max = fiksi[fiksi['rating'] == fiksi['rating'].max()].iloc[0]\n",
    "rating_max_non = nonfiksi[nonfiksi['rating'] == nonfiksi['rating'].max()].iloc[0]\n",
    "print(rating_max)\n",
    "print(rating_max_non)"
   ]
  },
  {
   "cell_type": "code",
   "execution_count": 408,
   "id": "40c5a11b",
   "metadata": {},
   "outputs": [
    {
     "name": "stdout",
     "output_type": "stream",
     "text": [
      "                             judul    penulis  rating  review  harga  tahun  \\\n",
      "513  The Midnight Library: A Novel  Matt Haig     4.3  193482  13.29   2021   \n",
      "\n",
      "       genre  \n",
      "513  Fiction  \n",
      "                                        judul          penulis  rating  \\\n",
      "421  The Boy, the Mole, the Fox and the Horse  Charlie Mackesy     4.8   \n",
      "\n",
      "     review  harga  tahun        genre  \n",
      "421  106658  10.35   2021  Non Fiction  \n"
     ]
    }
   ],
   "source": [
    "review_max = fiksi[fiksi['review'] == fiksi['review'].max()]\n",
    "review_max_non = nonfiksi[nonfiksi['review'] == nonfiksi['review'].max()]\n",
    "print(review_max)\n",
    "print(review_max_non)"
   ]
  },
  {
   "cell_type": "markdown",
   "id": "05cd550c",
   "metadata": {},
   "source": [
    "- Pada tahun 2009 hingga 2021, diketahui lebih banyak buku non fiksi yang masuk pada list best selling Amazon dengan buku non fiksi sebanyak 362 judul buku dan 276 buku fiksi.\n",
    "- Dari 362 buku non fiksi, Diagnostic and Statistical Manual of Mental Disorders, 5th Edition: DSM-5 merupakan buku non fiksi dengan harga termahal, yaitu sebesar $105.0. Sedangkan untuk buku fiksi termahal yaitu  The Twilight Saga Collection seharga 82.0. Perbedaan harga sangat signifikan, karena buku non fiksi hanya ada satu buku sedangkan non fiksi merupakan judul koleksi yang berarti terdapat beberapa buku dalam satu judul tersebut.\n",
    "- Untuk rating buku non fiksi tertinggi berada di nilai 4.9, salah satunya dipegang oleh buku A Promised Land yang ditulis oleh mantan presiden Amerika. Untuk buku fiksi rating tertinggi sama, berada di nilai 4.9 yang salah satunya diperoleh oleh buku Big Shot (Diary of a Wimpy Kid) oleh Jeff Kinney.\n",
    "- The Boy, the Mole, the Fox and the Horse merupakan buku non fiksi yang paling banyak di review, yaitu sebanyak 106.658 kali. Sedangkan The Midnight Library: A Novel merupkana buku fiksi yang paling banyak di review dengan 193.482 kali review. Jumlah review fiksi lebih tinggi daripada review buku non fiksi."
   ]
  },
  {
   "cell_type": "markdown",
   "id": "ad7889c1",
   "metadata": {},
   "source": [
    "2. Tingkat kecenderungan rating buku terhadap genre (Visualisasi Data)"
   ]
  },
  {
   "cell_type": "code",
   "execution_count": 409,
   "id": "fd8c8ed0",
   "metadata": {},
   "outputs": [
    {
     "name": "stdout",
     "output_type": "stream",
     "text": [
      "genre\n",
      "Fiction        4.66\n",
      "Non Fiction    4.62\n",
      "Name: rating, dtype: float64\n"
     ]
    }
   ],
   "source": [
    "rerata = df.groupby('genre')['rating'].mean().round(2)\n",
    "print(rerata)"
   ]
  },
  {
   "cell_type": "code",
   "execution_count": 410,
   "id": "8d3a1a14",
   "metadata": {},
   "outputs": [
    {
     "name": "stdout",
     "output_type": "stream",
     "text": [
      "genre\n",
      "Fiction        4.9\n",
      "Non Fiction    4.9\n",
      "Name: rating, dtype: float64\n"
     ]
    }
   ],
   "source": [
    "maxi = df.groupby('genre')['rating'].max()\n",
    "print(maxi)"
   ]
  },
  {
   "cell_type": "code",
   "execution_count": 411,
   "id": "912f7d33",
   "metadata": {},
   "outputs": [
    {
     "name": "stdout",
     "output_type": "stream",
     "text": [
      "genre\n",
      "Fiction        3.3\n",
      "Non Fiction    4.0\n",
      "Name: rating, dtype: float64\n"
     ]
    }
   ],
   "source": [
    "mini = df.groupby('genre')['rating'].min()\n",
    "print(mini)"
   ]
  },
  {
   "cell_type": "code",
   "execution_count": 412,
   "id": "93188aab",
   "metadata": {},
   "outputs": [
    {
     "name": "stdout",
     "output_type": "stream",
     "text": [
      "genre\n",
      "Fiction        4.7\n",
      "Non Fiction    4.6\n",
      "Name: rating, dtype: float64\n"
     ]
    }
   ],
   "source": [
    "median = df.groupby('genre')['rating'].median()\n",
    "print(median)"
   ]
  },
  {
   "cell_type": "code",
   "execution_count": 413,
   "id": "ec8092eb",
   "metadata": {},
   "outputs": [
    {
     "data": {
      "image/png": "[encoded data removed]",
      "text/plain": [
       "<Figure size 600x400 with 1 Axes>"
      ]
     },
     "metadata": {},
     "output_type": "display_data"
    }
   ],
   "source": [
    "plt.figure(figsize=(6, 4))\n",
    "sns.barplot(x=rerata.index, y=rerata.values)\n",
    "plt.title('Rerata Rating Buku per Genre')\n",
    "plt.xlabel('Genre')\n",
    "plt.ylabel('Rerata Rating')\n",
    "plt.ylim(0, 5)\n",
    "plt.tight_layout()\n",
    "plt.show()"
   ]
  },
  {
   "cell_type": "markdown",
   "id": "b5ad47a3",
   "metadata": {},
   "source": [
    "- Rata-rata rating buku fiksi dan non fiksi hampir sama, hanya selisih 0.04 dengan rating fiksi yang lebih tinggi. Rating buku fiksi yaitu 4.66 sedangkan non fiksi rata-ratanya sebesar 4.62\n",
    "- Kedua genre tersebut memiliki rating tertinggi yang sama yaitu sebesar 4.9.\n",
    "- Untuk rating terendah, buku fiksi memiliki rating 3.3 sedakan buku non fiksi rating terendahnya bernilai 4.0, dalam hal ini buku non fiksi lebih memuaskan daripada buku fiksi.\n",
    "- Median rating buku fiksi yaitu 4.7, dengan rating tertinggi 4,9 dan terendah 3,3 ini berarti terdapat persebaran nilai yang lebar di bawah nilai median ini dan banyak buku dengan rating di atas median. Sedangkan median buku non fiksi yaitu 4.6 yang mana angka ini lebih rendah daripada median buku fiksi."
   ]
  },
  {
   "cell_type": "markdown",
   "id": "fc3199bf",
   "metadata": {},
   "source": [
    "3. Jumlah review berdasarkan tahun (Visualisasi Data)"
   ]
  },
  {
   "cell_type": "code",
   "execution_count": 414,
   "id": "989ad861",
   "metadata": {},
   "outputs": [
    {
     "name": "stdout",
     "output_type": "stream",
     "text": [
      "tahun\n",
      "2009     235506\n",
      "2010     271859\n",
      "2011     400536\n",
      "2012     654546\n",
      "2013     621861\n",
      "2014     760259\n",
      "2015     685435\n",
      "2016     680792\n",
      "2017     638584\n",
      "2018     696521\n",
      "2019     794917\n",
      "2020    1790733\n",
      "2021    2818117\n",
      "Name: review, dtype: int32\n"
     ]
    }
   ],
   "source": [
    "total_review = df.groupby('tahun')['review'].sum().sort_index()\n",
    "print(total_review)"
   ]
  },
  {
   "cell_type": "code",
   "execution_count": 415,
   "id": "03306086",
   "metadata": {},
   "outputs": [
    {
     "data": {
      "image/png": "[encoded data removed]",
      "text/plain": [
       "<Figure size 800x400 with 1 Axes>"
      ]
     },
     "metadata": {},
     "output_type": "display_data"
    }
   ],
   "source": [
    "plt.figure(figsize=(8, 4))\n",
    "plt.plot(total_review.index, total_review.values, marker='o', linestyle='-', color='teal')\n",
    "plt.title('Tren Jumlah Review Berdasarkan Tahun')\n",
    "plt.xlabel('Tahun')\n",
    "plt.ylabel('Total Review')\n",
    "plt.grid(True)\n",
    "plt.tight_layout()\n",
    "plt.show()"
   ]
  },
  {
   "cell_type": "markdown",
   "id": "6ef54b15",
   "metadata": {},
   "source": [
    "- Tren banyaknya review pada tahun 2009-2019 cukup stabil meski ada kenaikan atau penurunan tiap tahunnya.\n",
    "- Tren review konsumen naik signifikan pada tahun 2020 dan 2021. Pada tahun ini kemungkinan konsumen mulai berpindah ke platform online untuk membeli buku karena adanya pandemi COVID-19"
   ]
  },
  {
   "cell_type": "markdown",
   "id": "90a6b88b",
   "metadata": {},
   "source": [
    "4. Hubungan antara harga dan rating (Visualisasi Data)"
   ]
  },
  {
   "cell_type": "code",
   "execution_count": 416,
   "id": "02ce1242",
   "metadata": {},
   "outputs": [
    {
     "name": "stdout",
     "output_type": "stream",
     "text": [
      "rho-correlation: -0.22\n",
      "p-value: 2.1851076115972604e-08\n"
     ]
    }
   ],
   "source": [
    "corr_rho, pval_s = stats.spearmanr(df['harga'], df['rating'])\n",
    "\n",
    "print(f\"rho-correlation: {corr_rho:.2f}\")\n",
    "print(f\"p-value: {pval_s}\")"
   ]
  },
  {
   "cell_type": "markdown",
   "id": "d47d30a6",
   "metadata": {},
   "source": [
    "If p-value more than 0.05, so the correlation between two variables is by chance."
   ]
  },
  {
   "cell_type": "code",
   "execution_count": 417,
   "id": "0f602aab",
   "metadata": {},
   "outputs": [],
   "source": [
    "if pval_s > 0.05:\n",
    "    print('By chance')"
   ]
  },
  {
   "cell_type": "code",
   "execution_count": 418,
   "id": "a42d2342",
   "metadata": {},
   "outputs": [
    {
     "data": {
      "text/plain": [
       "<seaborn.axisgrid.FacetGrid at 0x152328088c0>"
      ]
     },
     "execution_count": 418,
     "metadata": {},
     "output_type": "execute_result"
    },
    {
     "data": {
      "image/png": "[encoded data removed]",
      "text/plain": [
       "<Figure size 500x500 with 1 Axes>"
      ]
     },
     "metadata": {},
     "output_type": "display_data"
    }
   ],
   "source": [
    "sns.lmplot(data=df, x = 'harga', y = 'rating')"
   ]
  },
  {
   "cell_type": "code",
   "execution_count": 419,
   "id": "48d40581",
   "metadata": {},
   "outputs": [
    {
     "name": "stdout",
     "output_type": "stream",
     "text": [
      "Skewness: 3.9593191057530333\n"
     ]
    }
   ],
   "source": [
    "print(f\"Skewness: {df['harga'].skew()}\")"
   ]
  },
  {
   "cell_type": "code",
   "execution_count": 420,
   "id": "49525c33",
   "metadata": {},
   "outputs": [
    {
     "name": "stdout",
     "output_type": "stream",
     "text": [
      "Upper Boundary: 27.00\n",
      "Lower Boundary: -5.00\n"
     ]
    }
   ],
   "source": [
    "q1 = df['harga'].quantile(0.25)\n",
    "q3 = df['harga'].quantile(0.75)\n",
    "iqr = q3 - q1\n",
    "\n",
    "up_bound = q3 + 1.5 * iqr\n",
    "low_bound = q1 - 1.5 * iqr\n",
    "\n",
    "print(f'Upper Boundary: {up_bound:.2f}')\n",
    "print(f'Lower Boundary: {low_bound:.2f}')"
   ]
  },
  {
   "cell_type": "code",
   "execution_count": 421,
   "id": "e36a8bb3",
   "metadata": {},
   "outputs": [
    {
     "name": "stdout",
     "output_type": "stream",
     "text": [
      "Percentage of outliers: 5.80%%\n"
     ]
    }
   ],
   "source": [
    "outlier = df['harga'][(df['harga']<low_bound) | (df['harga']>up_bound)]\n",
    "no_outlier = df['harga'][(df['harga']>=low_bound) & (df['harga']<=up_bound)]\n",
    "\n",
    "print(f'Percentage of outliers: {len(outlier)*100/len(df[\"harga\"]):.2f}%%')"
   ]
  },
  {
   "cell_type": "code",
   "execution_count": 422,
   "id": "f8d7eda7",
   "metadata": {},
   "outputs": [
    {
     "data": {
      "text/plain": [
       "<Axes: >"
      ]
     },
     "execution_count": 422,
     "metadata": {},
     "output_type": "execute_result"
    },
    {
     "data": {
      "image/png": "[encoded data removed]",
      "text/plain": [
       "<Figure size 1000x400 with 2 Axes>"
      ]
     },
     "metadata": {},
     "output_type": "display_data"
    }
   ],
   "source": [
    "fig, ax = plt.subplots(ncols=2,figsize=(10,4))\n",
    "\n",
    "no_outlier.plot(kind='hist',bins=20,ax=ax[0])\n",
    "no_outlier.plot(kind='box',ax=ax[1])"
   ]
  },
  {
   "cell_type": "code",
   "execution_count": 423,
   "id": "fe3a8c9c",
   "metadata": {},
   "outputs": [],
   "source": [
    "df_no_outlier = df[df['harga'] < 27.00]"
   ]
  },
  {
   "cell_type": "code",
   "execution_count": 424,
   "id": "98c4d02e",
   "metadata": {},
   "outputs": [
    {
     "name": "stdout",
     "output_type": "stream",
     "text": [
      "r-correlation: -0.20, p-value: 8.615773966609517e-07\n"
     ]
    }
   ],
   "source": [
    "corr_r, pval_p = stats.pearsonr(df_no_outlier['harga'], df_no_outlier['rating'])\n",
    "print(f\"r-correlation: {corr_r:.2f}, p-value: {pval_p}\")"
   ]
  },
  {
   "cell_type": "code",
   "execution_count": 425,
   "id": "6a7d5cbf",
   "metadata": {},
   "outputs": [],
   "source": [
    "if pval_p > 0.05:\n",
    "    print('By chance')"
   ]
  },
  {
   "cell_type": "code",
   "execution_count": 426,
   "id": "64b42a32",
   "metadata": {},
   "outputs": [
    {
     "data": {
      "text/plain": [
       "<seaborn.axisgrid.FacetGrid at 0x15232808710>"
      ]
     },
     "execution_count": 426,
     "metadata": {},
     "output_type": "execute_result"
    },
    {
     "data": {
      "image/png": "[encoded data removed]",
      "text/plain": [
       "<Figure size 500x500 with 1 Axes>"
      ]
     },
     "metadata": {},
     "output_type": "display_data"
    }
   ],
   "source": [
    "sns.lmplot(data=df_no_outlier, x = 'harga', y = 'rating')"
   ]
  },
  {
   "cell_type": "markdown",
   "id": "3f9accbd",
   "metadata": {},
   "source": [
    "- Data dengan outlier menunjukkan tren negatif di mana semakin tinggi harga suatu buku, semakin rendah rating yang di dapat. Berdasarkan p-value data ini, hubungan keduanya bukan suatu kebetulan.\n",
    "- Untuk data yang telah dibersihkan outlier harga, juga memiliki tren negatif. P value juga kurang dari 0.05 yang mana berarti hubungan keduanya bukan suatu kebetulan.\n",
    "- Dari kedua data, baik yang terdapat outlier maupun tanpa outlier, tren harga dengan rating bernilai negatif, dan bukan suatu kebetulan, harga memang berpengaruh terhadap rating."
   ]
  },
  {
   "cell_type": "markdown",
   "id": "3d51ec5d",
   "metadata": {},
   "source": [
    "5. Sebaran data rating dan review (Statistik Deskriptif)"
   ]
  },
  {
   "cell_type": "code",
   "execution_count": 427,
   "id": "5251609c",
   "metadata": {},
   "outputs": [
    {
     "name": "stdout",
     "output_type": "stream",
     "text": [
      "rho-correlation: 0.24\n"
     ]
    }
   ],
   "source": [
    "print(f\"rho-correlation: {df['rating'].corr(df['review'], method='spearman'):.2f}\")"
   ]
  },
  {
   "cell_type": "code",
   "execution_count": 428,
   "id": "dc02155d",
   "metadata": {},
   "outputs": [
    {
     "name": "stdout",
     "output_type": "stream",
     "text": [
      "       rating     review\n",
      "count  638.00     638.00\n",
      "mean     4.63   17319.23\n",
      "std      0.22   20840.27\n",
      "min      3.30      37.00\n",
      "25%      4.50    4873.50\n",
      "50%      4.70   10009.00\n",
      "75%      4.80   22288.00\n",
      "max      4.90  193482.00\n"
     ]
    }
   ],
   "source": [
    "stats_summary = df[['rating', 'review']].describe().round(2)\n",
    "print(stats_summary)"
   ]
  },
  {
   "cell_type": "code",
   "execution_count": 429,
   "id": "d1c5861f",
   "metadata": {},
   "outputs": [
    {
     "name": "stdout",
     "output_type": "stream",
     "text": [
      "rating        4.7\n",
      "review    10009.0\n",
      "dtype: float64\n"
     ]
    }
   ],
   "source": [
    "median = df[['rating', 'review']].median()\n",
    "print(median)"
   ]
  },
  {
   "cell_type": "code",
   "execution_count": 430,
   "id": "00561340",
   "metadata": {},
   "outputs": [
    {
     "name": "stdout",
     "output_type": "stream",
     "text": [
      "   rating  review\n",
      "0     4.8    8580\n"
     ]
    }
   ],
   "source": [
    "modus = df[['rating', 'review']].mode()\n",
    "print(modus)"
   ]
  },
  {
   "cell_type": "code",
   "execution_count": 431,
   "id": "b555a2d6",
   "metadata": {},
   "outputs": [
    {
     "name": "stdout",
     "output_type": "stream",
     "text": [
      "rating   -1.54\n",
      "review    3.10\n",
      "dtype: float64\n"
     ]
    }
   ],
   "source": [
    "skew = df[['rating', 'review']].skew().round(2)\n",
    "print(skew)"
   ]
  },
  {
   "cell_type": "code",
   "execution_count": 432,
   "id": "eda64f5b",
   "metadata": {},
   "outputs": [
    {
     "name": "stdout",
     "output_type": "stream",
     "text": [
      "rating     3.61\n",
      "review    14.14\n",
      "dtype: float64\n"
     ]
    }
   ],
   "source": [
    "kurt = df[['rating', 'review']].kurt().round(2)\n",
    "print(kurt)"
   ]
  },
  {
   "cell_type": "markdown",
   "id": "f155d033",
   "metadata": {},
   "source": [
    "- Rata-rata, median, dan modus rating adalah 4.63, 4.70, dan 4.8. Nilai ini menunjukkan rating cenderung tinggi dan distribusi data condong ke kanan.\n",
    "- Standar deviasi rating sebesar 0.22 menunjukkan bahwa variasi antar rating relatif kecil. Rating minimum yaitu 3.30 tetapi sebagian besar buku memiliki rating di atas 4.5.\n",
    "- Skewness rating yaitu -1.54, menunjukkan distribusi miring ke kiri, artinya sebagian buku memiliki rating tinggi, dengan beberapa buku memiliki rating lebih rendah.\n",
    "- Kurtosis rating yaitu 3.61, menunjukkan distribusi dengan ekor yang lebih tebal dibandingkan distribusi normal. Ini berarti ada beberapa outlier, tetapi distribusi tetap cenderung terpusat pada nilai tinggi.\n",
    "- Rata-rata jumlah review yaitu 17,319.23 tetapi median hanya 10,009 dan modus 8,580. Hal ini menunjukkan bahwa distribusi data tidak merata, dengan beberapa buku memiliki ulasan yang jauh lebih tinggi dari rata-rata.\n",
    "- Tingginya standar deviasi review menunjukka variasi signifikan pada jumlah review. Data ini sangat tersebar dan mencakup rentang review yang luas.\n",
    "- Skewness riview sebesar 3.10 menunjukkan distribusi miring ke kanan. Artinya sebagian besar buku memiliki review dalam jumlah yang lebih sedikit, dengan beberapa produk memiliki jumlah ulasan yang besar.\n",
    "- Kurtosis review yaitu 14.14, menunjukkan distribusi dengan ekor yang tebal."
   ]
  },
  {
   "cell_type": "markdown",
   "id": "049ca651",
   "metadata": {},
   "source": [
    "6. Hubungan antara genre dengan rating (Statistik Inferensial)"
   ]
  },
  {
   "cell_type": "markdown",
   "id": "ea884726",
   "metadata": {},
   "source": [
    "H0: Genre tidak memengaruhi rating buku<br>\n",
    "H1: Genre memengaruhi rating buku"
   ]
  },
  {
   "cell_type": "code",
   "execution_count": 433,
   "id": "79d34c26",
   "metadata": {},
   "outputs": [
    {
     "data": {
      "text/html": [
       "<div>\n",
       "<style scoped>\n",
       "    .dataframe tbody tr th:only-of-type {\n",
       "        vertical-align: middle;\n",
       "    }\n",
       "\n",
       "    .dataframe tbody tr th {\n",
       "        vertical-align: top;\n",
       "    }\n",
       "\n",
       "    .dataframe thead th {\n",
       "        text-align: right;\n",
       "    }\n",
       "</style>\n",
       "<table border=\"1\" class=\"dataframe\">\n",
       "  <thead>\n",
       "    <tr style=\"text-align: right;\">\n",
       "      <th>rating</th>\n",
       "      <th>3.3</th>\n",
       "      <th>3.6</th>\n",
       "      <th>3.8</th>\n",
       "      <th>3.9</th>\n",
       "      <th>4.0</th>\n",
       "      <th>4.1</th>\n",
       "      <th>4.2</th>\n",
       "      <th>4.3</th>\n",
       "      <th>4.4</th>\n",
       "      <th>4.5</th>\n",
       "      <th>4.6</th>\n",
       "      <th>4.7</th>\n",
       "      <th>4.8</th>\n",
       "      <th>4.9</th>\n",
       "    </tr>\n",
       "    <tr>\n",
       "      <th>genre</th>\n",
       "      <th></th>\n",
       "      <th></th>\n",
       "      <th></th>\n",
       "      <th></th>\n",
       "      <th></th>\n",
       "      <th></th>\n",
       "      <th></th>\n",
       "      <th></th>\n",
       "      <th></th>\n",
       "      <th></th>\n",
       "      <th></th>\n",
       "      <th></th>\n",
       "      <th></th>\n",
       "      <th></th>\n",
       "    </tr>\n",
       "  </thead>\n",
       "  <tbody>\n",
       "    <tr>\n",
       "      <th>Fiction</th>\n",
       "      <td>1</td>\n",
       "      <td>1</td>\n",
       "      <td>2</td>\n",
       "      <td>3</td>\n",
       "      <td>6</td>\n",
       "      <td>4</td>\n",
       "      <td>3</td>\n",
       "      <td>13</td>\n",
       "      <td>11</td>\n",
       "      <td>23</td>\n",
       "      <td>33</td>\n",
       "      <td>40</td>\n",
       "      <td>84</td>\n",
       "      <td>52</td>\n",
       "    </tr>\n",
       "    <tr>\n",
       "      <th>Non Fiction</th>\n",
       "      <td>0</td>\n",
       "      <td>0</td>\n",
       "      <td>0</td>\n",
       "      <td>0</td>\n",
       "      <td>9</td>\n",
       "      <td>2</td>\n",
       "      <td>5</td>\n",
       "      <td>16</td>\n",
       "      <td>28</td>\n",
       "      <td>42</td>\n",
       "      <td>80</td>\n",
       "      <td>88</td>\n",
       "      <td>76</td>\n",
       "      <td>16</td>\n",
       "    </tr>\n",
       "  </tbody>\n",
       "</table>\n",
       "</div>"
      ],
      "text/plain": [
       "rating       3.3  3.6  3.8  3.9  4.0  4.1  4.2  4.3  4.4  4.5  4.6  4.7  4.8  \\\n",
       "genre                                                                          \n",
       "Fiction        1    1    2    3    6    4    3   13   11   23   33   40   84   \n",
       "Non Fiction    0    0    0    0    9    2    5   16   28   42   80   88   76   \n",
       "\n",
       "rating       4.9  \n",
       "genre             \n",
       "Fiction       52  \n",
       "Non Fiction   16  "
      ]
     },
     "execution_count": 433,
     "metadata": {},
     "output_type": "execute_result"
    }
   ],
   "source": [
    "contingency_table = pd.crosstab(df['genre'],df['rating'])\n",
    "contingency_table"
   ]
  },
  {
   "cell_type": "code",
   "execution_count": 434,
   "id": "a0e9fed5",
   "metadata": {},
   "outputs": [
    {
     "name": "stdout",
     "output_type": "stream",
     "text": [
      "P-value: 1.3888835051255835e-09\n"
     ]
    }
   ],
   "source": [
    "res = stats.chi2_contingency(contingency_table)\n",
    "p_val = res.pvalue\n",
    "print(\"P-value:\",p_val)"
   ]
  },
  {
   "cell_type": "code",
   "execution_count": 435,
   "id": "2f2e714d",
   "metadata": {},
   "outputs": [
    {
     "name": "stdout",
     "output_type": "stream",
     "text": [
      "H0 rejected\n"
     ]
    }
   ],
   "source": [
    "if p_val < 0.05:\n",
    "    print('H0 rejected')"
   ]
  },
  {
   "cell_type": "markdown",
   "id": "f8c411d4",
   "metadata": {},
   "source": [
    "Dari perhitungan menggunakan Chi-Squared Test, diketahui bahwa terdapat hubungan antara genre dengan rating buku. Hal ini dapat menjadi pertimbangan dalam menentukan pilihan genre yang akan dijual."
   ]
  },
  {
   "cell_type": "markdown",
   "id": "f8d6b86b",
   "metadata": {},
   "source": [
    "# Conclusion"
   ]
  },
  {
   "cell_type": "markdown",
   "id": "baf837d0",
   "metadata": {},
   "source": [
    "Berdasarkan analisis yang dilakukan terhadap data buku best selling antara genre fiksi dan non fiksi pada tahun 2009 hingga 2021, terdapat beberapa temuan yang dapat menjadi pertimbangan strategis untuk menentukan pilihan genre yang akan dijual. Secara umum, buku non fiksi lebih sering muncul dalam barisan buku terlaris meskipun rata-rata harga buku non fiksi lebih tinggi.\n",
    "\n",
    "Buku non fiksi cenderung memiliki rating yang lebih tinggi daripada rating buku fiksi, hal ini dikarenakan nilai terendah rating buku fiksi yaitu 3.3 sedangkan buku non fiksi rating terendahnya 4.0. Tren jumlah review mengalami peningkatan signifikan pada tahun 2020 dan 2021. Kemungkinan hal ini terjadi karena adanya pandemi COVID-19 sehingga banyak konsumen baru yang membeli buku melalui Amazon.\n",
    "\n",
    "Sebagai rekomendasi, penjual sebaiknya memerhatikan genre yang akan dijual, harga dan kualitas saat melakukan perencanaan strategis."
   ]
  }
 ],
 "metadata": {
  "kernelspec": {
   "display_name": "base",
   "language": "python",
   "name": "python3"
  },
  "language_info": {
   "codemirror_mode": {
    "name": "ipython",
    "version": 3
   },
   "file_extension": ".py",
   "mimetype": "text/x-python",
   "name": "python",
   "nbconvert_exporter": "python",
   "pygments_lexer": "ipython3",
   "version": "3.12.7"
  }
 },
 "nbformat": 4,
 "nbformat_minor": 5
}
